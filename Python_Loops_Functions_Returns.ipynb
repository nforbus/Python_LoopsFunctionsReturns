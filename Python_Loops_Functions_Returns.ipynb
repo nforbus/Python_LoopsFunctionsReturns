{
 "cells": [
  {
   "cell_type": "markdown",
   "id": "5ca817a8-8055-462c-ade7-66199103e5ef",
   "metadata": {},
   "source": [
    "**TO BE MOVED:**\n",
    "\n",
    "**Style Notes:**\n",
    "1. Functions are named all-lowercase with _ separating words.  Instead of myFunction, its my_function\n",
    "2. Comments are done with # for single-line, and \"\"\" \"\"\" for block comments"
   ]
  },
  {
   "cell_type": "markdown",
   "id": "3ea34e3f-18f3-4433-b36b-01e8e2c3d8e2",
   "metadata": {},
   "source": [
    "3 main objectives:\n",
    "* Understand and implement loops\n",
    "* Understand and implement functions\n",
    "* Understand and implement return statements\n",
    "\n",
    "While loop\n",
    "For/Else loop\n",
    "Loop control statements\n",
    "Nested loops\n",
    "Python functions\n",
    "Return statements with 1 or more values\n",
    "\n",
    "This program runs on Rhyme (built into Coursera).  Not sure yet how I'm going to get all the code out of here.\n",
    "\n"
   ]
  },
  {
   "cell_type": "markdown",
   "id": "f1607891-8869-4c9f-8b94-f38b49ed143a",
   "metadata": {},
   "source": [
    "**Loops in Python:**  (first objective)"
   ]
  },
  {
   "cell_type": "markdown",
   "id": "02433006-c0c9-4cbc-83ee-e1c67b0f009f",
   "metadata": {},
   "source": [
    "**While Loop:**"
   ]
  },
  {
   "cell_type": "code",
   "execution_count": 1,
   "id": "c6bd5dd5-5026-47d6-8151-6c01a11431dc",
   "metadata": {},
   "outputs": [
    {
     "name": "stdout",
     "output_type": "stream",
     "text": [
      "1\n",
      "2\n",
      "3\n",
      "4\n"
     ]
    }
   ],
   "source": [
    "number = 1\n",
    "while number < 5:\n",
    "    print(number)\n",
    "    number += 1"
   ]
  },
  {
   "cell_type": "markdown",
   "id": "25452015-6162-4382-a1eb-fa632e9015ed",
   "metadata": {},
   "source": [
    "This is the first loop we go through.  Formatting reminders;\n",
    "\n",
    "\"\"\"\n",
    "this is how you comment out code in python\n",
    "\"\"\"\n",
    "\n",
    "loops are started with : and indentation on the next lines.\n",
    "\n",
    "The next while loop is hands-on, with the requirements of;\n",
    "1. Create a variable called counter, set it to a value greater than 25\n",
    "2. While counter > 15, print the number and remove 2 from it"
   ]
  },
  {
   "cell_type": "code",
   "execution_count": 2,
   "id": "6a43f101-7c2e-492a-bcfb-fc98de9c81d4",
   "metadata": {},
   "outputs": [
    {
     "name": "stdout",
     "output_type": "stream",
     "text": [
      "30\n",
      "28\n",
      "26\n",
      "24\n",
      "22\n",
      "20\n",
      "18\n",
      "16\n",
      "While loop has ended\n"
     ]
    }
   ],
   "source": [
    "counter = 30\n",
    "while counter > 15:\n",
    "    print(counter)\n",
    "    counter -= 2\n",
    "\n",
    "print(\"While loop has ended\")"
   ]
  },
  {
   "cell_type": "markdown",
   "id": "8273bf52-86e5-47c3-8218-ba78ae8c692c",
   "metadata": {},
   "source": [
    "**For Loop:**"
   ]
  },
  {
   "cell_type": "code",
   "execution_count": 3,
   "id": "031fa571-899f-42e6-a2d6-a96fdd3ab396",
   "metadata": {},
   "outputs": [
    {
     "name": "stdout",
     "output_type": "stream",
     "text": [
      "Audi\n",
      "VW\n",
      "Jaguar\n",
      "Mini\n",
      "For loop complete\n"
     ]
    }
   ],
   "source": [
    "cars=['Audi', 'VW', 'Jaguar', 'Mini']\n",
    "for x in cars:\n",
    "    print(x)\n",
    "\n",
    "print(\"For loop complete\")"
   ]
  },
  {
   "cell_type": "markdown",
   "id": "ef387164-df30-4310-95cf-994046e16df7",
   "metadata": {},
   "source": [
    "Now we're doing another hands-on, with the requirements:\n",
    "1. Use a list of numbers 1-6\n",
    "2. For each loop, print number * 2"
   ]
  },
  {
   "cell_type": "code",
   "execution_count": 4,
   "id": "aa75a7de-c029-4fad-bdf7-dcee90c5e2bb",
   "metadata": {},
   "outputs": [
    {
     "name": "stdout",
     "output_type": "stream",
     "text": [
      "2\n",
      "4\n",
      "6\n",
      "8\n",
      "10\n",
      "12\n",
      "For loop complete\n"
     ]
    }
   ],
   "source": [
    "list = [1, 2, 3, 4, 5, 6]\n",
    "for x in list:\n",
    "    print(x * 2)\n",
    "\n",
    "print(\"For loop complete\")"
   ]
  },
  {
   "cell_type": "markdown",
   "id": "56cacf25-9541-4d38-bf0c-6822b67b26c1",
   "metadata": {},
   "source": [
    "**Loop Controls:**\n",
    "\n",
    "Now we're doing this again, but with a condition for breaking the loop."
   ]
  },
  {
   "cell_type": "code",
   "execution_count": 5,
   "id": "c163bc0b-808a-4c53-917a-ab1f7eddde6a",
   "metadata": {},
   "outputs": [
    {
     "name": "stdout",
     "output_type": "stream",
     "text": [
      "1\n",
      "2\n",
      "3\n",
      "4\n",
      "5\n",
      "Breaking condition met, existing loop\n"
     ]
    }
   ],
   "source": [
    "numbers = [1, 2, 3, 4, 5, 6]\n",
    "for x in numbers:\n",
    "    print(x)\n",
    "    if x == 5:\n",
    "        print(\"Breaking condition met, existing loop\")\n",
    "        break\n",
    "\n",
    "else:\n",
    "    print(\"Number was not found\")"
   ]
  },
  {
   "cell_type": "markdown",
   "id": "731ca3a8-6843-4aa0-b7b1-fd14caff74e2",
   "metadata": {},
   "source": [
    "In Python there are 3 loop control statements:\n",
    "1. Break: Exits the loop\n",
    "2. Continue:  Skips the current iteration of the loop\n",
    "3. Pass:  \n",
    "\n",
    "The hands-on exercise wants the following;\n",
    "1. Create a variable called counter that contains a list of 1-10\n",
    "2. When the for loop = 6, skip it (continue)"
   ]
  },
  {
   "cell_type": "code",
   "execution_count": 6,
   "id": "9b67010c-f5f7-488c-8d48-5f615aaa5b62",
   "metadata": {},
   "outputs": [
    {
     "name": "stdout",
     "output_type": "stream",
     "text": [
      "1\n",
      "2\n",
      "3\n",
      "4\n",
      "5\n",
      "Skipping this number\n",
      "7\n",
      "8\n",
      "9\n",
      "10\n",
      "End of for loop with loop control statements\n"
     ]
    }
   ],
   "source": [
    "counter = [1, 2, 3, 4, 5, 6, 7, 8, 9, 10]\n",
    "for x in counter:\n",
    "    if x == 6:\n",
    "        print(\"Skipping this number\")\n",
    "        continue\n",
    "    else:\n",
    "        print(x)\n",
    "\n",
    "print(\"End of for loop with loop control statements\")"
   ]
  },
  {
   "cell_type": "markdown",
   "id": "57d54db1-ea0b-477a-87d3-cc4045d6857f",
   "metadata": {},
   "source": [
    "**Nested Loop:**"
   ]
  },
  {
   "cell_type": "code",
   "execution_count": 3,
   "id": "b8b8c8ac-72e6-4686-93f0-dc8eff2ac422",
   "metadata": {},
   "outputs": [],
   "source": [
    "numbers = [1, 2, 3]\n",
    "letters = ['a', 'b', 'c']"
   ]
  },
  {
   "cell_type": "code",
   "execution_count": 4,
   "id": "e38a6ccb-3047-4f56-ba54-b93c8be4f9e8",
   "metadata": {},
   "outputs": [
    {
     "name": "stdout",
     "output_type": "stream",
     "text": [
      "1\n",
      "a\n",
      "b\n",
      "c\n",
      "2\n",
      "a\n",
      "b\n",
      "c\n",
      "3\n",
      "a\n",
      "b\n",
      "c\n"
     ]
    }
   ],
   "source": [
    "for x in numbers:\n",
    "    print(x)\n",
    "    for y in letters:\n",
    "        print(y)"
   ]
  },
  {
   "cell_type": "code",
   "execution_count": 5,
   "id": "dcecb9c2-3c60-4f5a-b648-79b819c69392",
   "metadata": {},
   "outputs": [
    {
     "name": "stdout",
     "output_type": "stream",
     "text": [
      "1 a\n",
      "1 b\n",
      "1 c\n",
      "2 a\n",
      "2 b\n",
      "2 c\n",
      "3 a\n",
      "3 b\n",
      "3 c\n"
     ]
    }
   ],
   "source": [
    "for x in numbers:\n",
    "    for y in letters:\n",
    "        print(x, y)"
   ]
  },
  {
   "cell_type": "markdown",
   "id": "178a64e9-d5d0-4d59-bbd5-ef2e13ea3db2",
   "metadata": {},
   "source": [
    "**Functions in Python:** (2nd objective)"
   ]
  },
  {
   "cell_type": "markdown",
   "id": "aeb48ba8-397c-4ee3-a039-30a822f51951",
   "metadata": {},
   "source": [
    "Function declarations take this form in Python:  def function_name(argument):"
   ]
  },
  {
   "cell_type": "code",
   "execution_count": 6,
   "id": "65a9ebe8-d3e2-498b-9ef4-624c192d1dec",
   "metadata": {},
   "outputs": [
    {
     "name": "stdout",
     "output_type": "stream",
     "text": [
      "My name is Emma Watson and my age is 37\n"
     ]
    }
   ],
   "source": [
    "#function declaration\n",
    "def about_me(firstname, lastname, age):\n",
    "    print(\"My name is \" + firstname + \" \" + lastname + \" and my age is \" +str(age)) #str() is converting the integer to a string\n",
    "\n",
    "#calling the function with an argument\n",
    "about_me(\"Emma\", \"Watson\", 37)"
   ]
  },
  {
   "cell_type": "markdown",
   "id": "2c88be1b-f1c0-4d28-b1ac-38042dca1e34",
   "metadata": {},
   "source": [
    "You can add default values for functions in-line via their descriptor."
   ]
  },
  {
   "cell_type": "code",
   "execution_count": 7,
   "id": "5d0b32af-61a8-4e0d-8068-e4d594394d64",
   "metadata": {},
   "outputs": [
    {
     "name": "stdout",
     "output_type": "stream",
     "text": [
      "My name is Test DefaultLast\n",
      "My name is Nikk One\n"
     ]
    }
   ],
   "source": [
    "def about_me(firstname=\"DefaultFirst\", lastname=\"DefaultLast\"):\n",
    "    print(\"My name is \" + firstname + \" \" + lastname)\n",
    "\n",
    "about_me(\"Test\")\n",
    "about_me(\"Nikk\", \"One\")"
   ]
  },
  {
   "cell_type": "markdown",
   "id": "c0cb8170-3578-419e-9ce1-8e3962fb1a1f",
   "metadata": {},
   "source": [
    "**Return Statements in Python:** (3rd objective)"
   ]
  },
  {
   "cell_type": "code",
   "execution_count": 8,
   "id": "17f5d73e-f40c-478a-8d71-c89993fabd99",
   "metadata": {},
   "outputs": [
    {
     "name": "stdout",
     "output_type": "stream",
     "text": [
      "Result = 30\n"
     ]
    }
   ],
   "source": [
    "def multiply(num1, num2):\n",
    "    return num1 * num2\n",
    "\n",
    "result = (multiply(5, 6))\n",
    "print(\"Result = {}\".format(result))"
   ]
  },
  {
   "cell_type": "code",
   "execution_count": 9,
   "id": "07513fde-1f1c-41cd-b4f0-a7de388c291d",
   "metadata": {},
   "outputs": [
    {
     "name": "stdout",
     "output_type": "stream",
     "text": [
      "Hello Nikk\n"
     ]
    }
   ],
   "source": [
    "def greeting(name):\n",
    "    return \"Hello \" + name\n",
    "\n",
    "result = greeting(\"Nikk\")\n",
    "print(result)"
   ]
  },
  {
   "cell_type": "markdown",
   "id": "411cc1b8-c71d-4f7f-ad49-aa19475f042e",
   "metadata": {},
   "source": [
    "You can return multiple results by returning them in []'s"
   ]
  },
  {
   "cell_type": "code",
   "execution_count": 10,
   "id": "1002a494-71aa-47e5-bf9f-5e7eaf42128c",
   "metadata": {},
   "outputs": [
    {
     "name": "stdout",
     "output_type": "stream",
     "text": [
      "['Emma', 30, 2]\n"
     ]
    }
   ],
   "source": [
    "def about_me():\n",
    "    name=\"Emma\"\n",
    "    age=30\n",
    "    children=2\n",
    "    return [name, age, children]\n",
    "\n",
    "result = about_me()\n",
    "print(result)"
   ]
  },
  {
   "cell_type": "code",
   "execution_count": null,
   "id": "bab34f25-95d6-470c-a0ae-d71bb7fe258f",
   "metadata": {},
   "outputs": [],
   "source": []
  }
 ],
 "metadata": {
  "kernelspec": {
   "display_name": "Python 3 (ipykernel)",
   "language": "python",
   "name": "python3"
  },
  "language_info": {
   "codemirror_mode": {
    "name": "ipython",
    "version": 3
   },
   "file_extension": ".py",
   "mimetype": "text/x-python",
   "name": "python",
   "nbconvert_exporter": "python",
   "pygments_lexer": "ipython3",
   "version": "3.11.8"
  }
 },
 "nbformat": 4,
 "nbformat_minor": 5
}
